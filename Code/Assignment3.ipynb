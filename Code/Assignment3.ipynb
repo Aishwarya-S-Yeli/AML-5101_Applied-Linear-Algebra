{
 "cells": [
  {
   "cell_type": "code",
   "execution_count": 2,
   "metadata": {},
   "outputs": [],
   "source": [
    "import pandas as pd\n",
    "import numpy as np\n",
    "from sklearn.feature_extraction.text import CountVectorizer\n",
    "from sklearn.metrics.pairwise import cosine_similarity\n"
   ]
  },
  {
   "cell_type": "code",
   "execution_count": 3,
   "metadata": {},
   "outputs": [
    {
     "name": "stdout",
     "output_type": "stream",
     "text": [
      "Movie Review dataset\n",
      "-----------\n",
      "Initial number of samples = 13\n",
      "Initial number of features = 2\n",
      "\n"
     ]
    },
    {
     "data": {
      "text/html": [
       "<div>\n",
       "<style scoped>\n",
       "    .dataframe tbody tr th:only-of-type {\n",
       "        vertical-align: middle;\n",
       "    }\n",
       "\n",
       "    .dataframe tbody tr th {\n",
       "        vertical-align: top;\n",
       "    }\n",
       "\n",
       "    .dataframe thead th {\n",
       "        text-align: right;\n",
       "    }\n",
       "</style>\n",
       "<table border=\"1\" class=\"dataframe\">\n",
       "  <thead>\n",
       "    <tr style=\"text-align: right;\">\n",
       "      <th></th>\n",
       "      <th>movie</th>\n",
       "      <th>review</th>\n",
       "    </tr>\n",
       "  </thead>\n",
       "  <tbody>\n",
       "    <tr>\n",
       "      <th>0</th>\n",
       "      <td>The Lord of the Rings The Two Towers</td>\n",
       "      <td>remarkable display of fantasy action powerful ...</td>\n",
       "    </tr>\n",
       "    <tr>\n",
       "      <th>1</th>\n",
       "      <td>Inception</td>\n",
       "      <td>implanting stealing idea destroy gripping acti...</td>\n",
       "    </tr>\n",
       "    <tr>\n",
       "      <th>2</th>\n",
       "      <td>Spiderman Across the spider verse</td>\n",
       "      <td>mind bending wild action sequences intimate em...</td>\n",
       "    </tr>\n",
       "    <tr>\n",
       "      <th>3</th>\n",
       "      <td>The Dark Knight</td>\n",
       "      <td>Best live action portrayal beat organized crim...</td>\n",
       "    </tr>\n",
       "    <tr>\n",
       "      <th>4</th>\n",
       "      <td>Three colors red</td>\n",
       "      <td>mesmerising friendship turned love profound un...</td>\n",
       "    </tr>\n",
       "  </tbody>\n",
       "</table>\n",
       "</div>"
      ],
      "text/plain": [
       "                                  movie  \\\n",
       "0  The Lord of the Rings The Two Towers   \n",
       "1                             Inception   \n",
       "2     Spiderman Across the spider verse   \n",
       "3                       The Dark Knight   \n",
       "4                      Three colors red   \n",
       "\n",
       "                                              review  \n",
       "0  remarkable display of fantasy action powerful ...  \n",
       "1  implanting stealing idea destroy gripping acti...  \n",
       "2  mind bending wild action sequences intimate em...  \n",
       "3  Best live action portrayal beat organized crim...  \n",
       "4  mesmerising friendship turned love profound un...  "
      ]
     },
     "execution_count": 3,
     "metadata": {},
     "output_type": "execute_result"
    }
   ],
   "source": [
    "FILENAME = 'moviereviews.csv'\n",
    "df = pd.read_csv(FILENAME)\n",
    "print('Movie Review dataset')\n",
    "print('-----------')\n",
    "print('Initial number of samples = %d'%(df.shape[0]))\n",
    "print('Initial number of features = %d\\n'%(df.shape[1]))\n",
    "df.head()"
   ]
  },
  {
   "cell_type": "code",
   "execution_count": 36,
   "metadata": {},
   "outputs": [
    {
     "data": {
      "text/plain": [
       "array(['The Lord of the Rings The Two Towers', 'Inception',\n",
       "       'Spiderman Across the spider verse', 'The Dark Knight',\n",
       "       'Three colors red', 'It happened one night',\n",
       "       'In the Mood for Love', 'Before Sunrise', 'Gone with the wind',\n",
       "       'Eternal Sunshine of the Spotless Mind',\n",
       "       'The Shawshank Redemption', 'Raging Bull', 'Lawrence of Arabia'],\n",
       "      dtype=object)"
      ]
     },
     "execution_count": 36,
     "metadata": {},
     "output_type": "execute_result"
    }
   ],
   "source": [
    "movie_titles = df['movie'].values\n",
    "movie_titles"
   ]
  },
  {
   "cell_type": "code",
   "execution_count": 34,
   "metadata": {},
   "outputs": [
    {
     "data": {
      "text/plain": [
       "array(['remarkable display of fantasy action powerful ring hobbit destroy it fight',\n",
       "       'implanting stealing idea destroy gripping action jaw dropping fight stunning visual violence',\n",
       "       'mind bending wild action sequences intimate emotional moments amazing action',\n",
       "       'Best live action portrayal beat organized crime in Gotham enigmatic villain brutality violence',\n",
       "       'mesmerising friendship turned love profound unconventional bond heartfelt ',\n",
       "       'Romantic comedy screwball comedy enduring tale of romance comical true love',\n",
       "       'Neighbors solace bonding affair predicament spell binding infatuation heartwarming',\n",
       "       'blossoming love know each other chance encounter meeting someone special fleeting romance magical evening',\n",
       "       'epic romance greatest romantic film ever made touching amazing relationship cherished love',\n",
       "       'Length people go finding love of life emotional rollercoaster in blossoming of love reignited fascinating journey into heart ',\n",
       "       'movie about friendship life fight to be good person prisoner surviving',\n",
       "       'brutal boxing sports movie turbulent life outside ring almost tragedy character not likable pitiable brutal',\n",
       "       'classic adventure war movie psychological drama british officer fight ottoman success ego dangerous'],\n",
       "      dtype=object)"
      ]
     },
     "execution_count": 34,
     "metadata": {},
     "output_type": "execute_result"
    }
   ],
   "source": [
    "movie_reviews = df['review'].values\n",
    "movie_reviews"
   ]
  },
  {
   "cell_type": "markdown",
   "metadata": {},
   "source": [
    "CALCULATION OF MOVIE REVIEW VECTOR"
   ]
  },
  {
   "cell_type": "code",
   "execution_count": 38,
   "metadata": {},
   "outputs": [],
   "source": [
    "vectorizer = CountVectorizer().fit_transform(movie_reviews)\n",
    "reviews_matrix = vectorizer.toarray()"
   ]
  },
  {
   "cell_type": "code",
   "execution_count": 48,
   "metadata": {},
   "outputs": [],
   "source": [
    "vectorizer = CountVectorizer().fit_transform(movie_titles)\n",
    "titles_matrix = vectorizer.toarray()"
   ]
  },
  {
   "cell_type": "markdown",
   "metadata": {},
   "source": [
    "Calculate similarity using dot product formula"
   ]
  },
  {
   "cell_type": "code",
   "execution_count": 39,
   "metadata": {},
   "outputs": [],
   "source": [
    "dot_product_simi = np.dot(reviews_matrix, reviews_matrix.T)"
   ]
  },
  {
   "cell_type": "markdown",
   "metadata": {},
   "source": [
    "Calculate similarity using angle between vectors formula"
   ]
  },
  {
   "cell_type": "code",
   "execution_count": 40,
   "metadata": {},
   "outputs": [],
   "source": [
    "norms = np.linalg.norm(reviews_matrix, axis=1)\n",
    "angle_similarity = np.dot(reviews_matrix, reviews_matrix.T) / np.outer(norms, norms)\n"
   ]
  },
  {
   "cell_type": "code",
   "execution_count": 42,
   "metadata": {},
   "outputs": [],
   "source": [
    "\n",
    "# Fill the diagonal with zeros to avoid movies being similar to themselves\n",
    "np.fill_diagonal(dot_product_simi, 0)\n",
    "np.fill_diagonal(angle_similarity, 0)\n",
    "\n",
    "# Find top 3 pairs of movies using dot product similarity\n",
    "dot_product_top_indices = np.unravel_index(np.argsort(dot_product_simi, axis=None)[::-1], dot_product_simi.shape)\n",
    "dot_product_top_pairs = [(movie_titles[i], movie_titles[j], dot_product_simi[i, j]) for i, j in zip(*dot_product_top_indices)]\n",
    "\n",
    "# Find top 3 pairs of movies using angle similarity\n",
    "angle_top_indices = np.unravel_index(np.argsort(angle_similarity, axis=None)[::-1], angle_similarity.shape)\n",
    "angle_top_pairs = [(movie_titles[i], movie_titles[j], angle_similarity[i, j]) for i, j in zip(*angle_top_indices)]\n",
    "\n",
    "# Print top similar movie pairs\n",
    "\n"
   ]
  },
  {
   "cell_type": "markdown",
   "metadata": {},
   "source": [
    "Result"
   ]
  },
  {
   "cell_type": "code",
   "execution_count": 43,
   "metadata": {},
   "outputs": [
    {
     "name": "stdout",
     "output_type": "stream",
     "text": [
      "Top 3 movie pairs using Dot using Angle Similarity:\n",
      "1. The Lord of the Rings The Two Towers - Inception (Similarity: 0.26111648393354675)\n",
      "2. Inception - The Lord of the Rings The Two Towers (Similarity: 0.26111648393354675)\n",
      "3. Gone with the wind - It happened one night (Similarity: 0.24019223070763074)\n"
     ]
    }
   ],
   "source": [
    "print(\"Top 3 movie pairs using Dot using Angle Similarity:\")\n",
    "for i, pair in enumerate(angle_top_pairs[:3]):\n",
    "    print(f\"{i+1}. {pair[0]} - {pair[1]} (Similarity: {pair[2]})\")\n"
   ]
  },
  {
   "cell_type": "markdown",
   "metadata": {},
   "source": [
    "Hand Coded"
   ]
  },
  {
   "cell_type": "code",
   "execution_count": null,
   "metadata": {},
   "outputs": [],
   "source": [
    "# Using numpy.dot()\n",
    "start_time = time.time()\n",
    "dot_product_numpy = np.dot(titles_matrix, reviews_matrix)\n",
    "numpy_time = time.time() - start_time\n",
    "\n",
    "# Using hand-coded multiplication and addition\n",
    "start_time = time.time()\n",
    "dot_product_hand_coded = sum(x * y for x, y in zip(titles_matrix, reviews_matrix))\n",
    "hand_coded_time = time.time() - start_time\n",
    "\n",
    "# Compare results and timing\n",
    "print(f\"Numpy Dot Product: {dot_product_numpy}\")\n",
    "print(f\"Hand-Coded Dot Product: {dot_product_hand_coded}\")\n",
    "\n",
    "print(f\"Time taken using numpy.dot(): {numpy_time:.6f} seconds\")\n",
    "print(f\"Time taken using hand-coding: {hand_coded_time:.6f} seconds\")\n",
    "\n",
    "speedup = hand_coded_time / numpy_time\n",
    "print(f\"Speedup with numpy.dot(): {speedup:.2f}x\")\n"
   ]
  }
 ],
 "metadata": {
  "kernelspec": {
   "display_name": "base",
   "language": "python",
   "name": "python3"
  },
  "language_info": {
   "codemirror_mode": {
    "name": "ipython",
    "version": 3
   },
   "file_extension": ".py",
   "mimetype": "text/x-python",
   "name": "python",
   "nbconvert_exporter": "python",
   "pygments_lexer": "ipython3",
   "version": "3.7.6"
  },
  "orig_nbformat": 4
 },
 "nbformat": 4,
 "nbformat_minor": 2
}
