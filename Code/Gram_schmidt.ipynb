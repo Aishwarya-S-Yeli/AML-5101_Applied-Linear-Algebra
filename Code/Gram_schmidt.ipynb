{
 "cells": [
  {
   "cell_type": "code",
   "execution_count": 10,
   "metadata": {},
   "outputs": [],
   "source": [
    "import numpy as np"
   ]
  },
  {
   "cell_type": "code",
   "execution_count": 41,
   "metadata": {},
   "outputs": [],
   "source": [
    "vectors = np.array(\n",
    "    [[0,0,4],\n",
    "     [0,1,1],\n",
    "     [1,1,1]]\n",
    ")"
   ]
  },
  {
   "cell_type": "code",
   "execution_count": 21,
   "metadata": {},
   "outputs": [],
   "source": [
    "q1 =vectors[0]"
   ]
  },
  {
   "cell_type": "code",
   "execution_count": 22,
   "metadata": {},
   "outputs": [
    {
     "data": {
      "text/plain": [
       "array([0., 0., 1.])"
      ]
     },
     "execution_count": 22,
     "metadata": {},
     "output_type": "execute_result"
    }
   ],
   "source": [
    "#creating unit vector - dividing vector by norm gives the unit vector\n",
    "q1_normalized = q1/np.linalg.norm(q1)\n",
    "q1_normalized"
   ]
  },
  {
   "cell_type": "code",
   "execution_count": 23,
   "metadata": {},
   "outputs": [],
   "source": [
    "#putting it in al list\n",
    "basis = []\n",
    "basis.append(q1_normalized)"
   ]
  },
  {
   "cell_type": "code",
   "execution_count": 24,
   "metadata": {},
   "outputs": [],
   "source": [
    "q2 = vectors[1] - np.dot(q1_normalized, vectors[1]) * q1_normalized\n",
    "if np.linalg.norm(q2) < 1e-7:\n",
    "    print(\"q2 is dependent on q1\")\n",
    "else: \n",
    "    q2_normalized =q2/np.linalg.norm(q2)\n",
    "    basis.append(q2_normalized)\n",
    "    q2_normalized"
   ]
  },
  {
   "cell_type": "code",
   "execution_count": 25,
   "metadata": {},
   "outputs": [
    {
     "data": {
      "text/plain": [
       "[array([0., 0., 1.]), array([0., 1., 0.])]"
      ]
     },
     "execution_count": 25,
     "metadata": {},
     "output_type": "execute_result"
    }
   ],
   "source": [
    "basis"
   ]
  },
  {
   "cell_type": "code",
   "execution_count": 26,
   "metadata": {},
   "outputs": [
    {
     "data": {
      "text/plain": [
       "array([0., 1., 0.])"
      ]
     },
     "execution_count": 26,
     "metadata": {},
     "output_type": "execute_result"
    }
   ],
   "source": [
    "q2_normalized"
   ]
  },
  {
   "cell_type": "code",
   "execution_count": 27,
   "metadata": {},
   "outputs": [],
   "source": [
    "q3 = vectors[2] - \\\n",
    "    np.dot(q1_normalized, vectors[1]) * q1_normalized - \\\n",
    "    np.dot(q2_normalized, vectors[1]) * q2_normalized\n",
    "if np.linalg.norm(q3) < 1e-7:\n",
    "    print(\"q3 is dependent on q1 and/or q2\")\n",
    "else: \n",
    "    q3_normalized =q3/np.linalg.norm(q3)\n",
    "    basis.append(q3_normalized)\n",
    "    q3_normalized"
   ]
  },
  {
   "cell_type": "code",
   "execution_count": 28,
   "metadata": {},
   "outputs": [
    {
     "data": {
      "text/plain": [
       "[array([0., 0., 1.]), array([0., 1., 0.]), array([1., 0., 0.])]"
      ]
     },
     "execution_count": 28,
     "metadata": {},
     "output_type": "execute_result"
    }
   ],
   "source": [
    "basis"
   ]
  },
  {
   "cell_type": "code",
   "execution_count": null,
   "metadata": {},
   "outputs": [],
   "source": [
    "#find the comp of q4 which is orto to q1 and q3 only"
   ]
  },
  {
   "cell_type": "code",
   "execution_count": 42,
   "metadata": {},
   "outputs": [],
   "source": [
    "def gram_schmidt(vectors):\n",
    "    basis = []\n",
    "    for ai in vectors:\n",
    "        qnew = ai - np.sum(np.dot(ai,qj) * qj for qj in basis)\n",
    "        norm = np.linalg.norm(qnew)\n",
    "        if (norm>1e-10):\n",
    "            basis.append(qnew/norm)\n",
    "        else:\n",
    "            raise Exception(f'vector {ai} is linearly dependent on other')\n",
    "\n",
    "    return np.array(basis)"
   ]
  },
  {
   "cell_type": "code",
   "execution_count": 43,
   "metadata": {},
   "outputs": [
    {
     "name": "stderr",
     "output_type": "stream",
     "text": [
      "C:\\Users\\MSIS\\AppData\\Local\\Temp\\ipykernel_9588\\4178146726.py:4: DeprecationWarning: Calling np.sum(generator) is deprecated, and in the future will give a different result. Use np.sum(np.fromiter(generator)) or the python sum builtin instead.\n",
      "  qnew = ai - np.sum(np.dot(ai,qj) * qj for qj in basis)\n"
     ]
    },
    {
     "data": {
      "text/plain": [
       "array([[0., 0., 1.],\n",
       "       [0., 1., 0.],\n",
       "       [1., 0., 0.]])"
      ]
     },
     "execution_count": 43,
     "metadata": {},
     "output_type": "execute_result"
    }
   ],
   "source": [
    "gram_schmidt(vectors)"
   ]
  },
  {
   "cell_type": "code",
   "execution_count": 44,
   "metadata": {},
   "outputs": [
    {
     "name": "stderr",
     "output_type": "stream",
     "text": [
      "C:\\Users\\MSIS\\AppData\\Local\\Temp\\ipykernel_9588\\4178146726.py:4: DeprecationWarning: Calling np.sum(generator) is deprecated, and in the future will give a different result. Use np.sum(np.fromiter(generator)) or the python sum builtin instead.\n",
      "  qnew = ai - np.sum(np.dot(ai,qj) * qj for qj in basis)\n"
     ]
    },
    {
     "ename": "Exception",
     "evalue": "vector [0 0 2] is linearly dependent on other",
     "output_type": "error",
     "traceback": [
      "\u001b[1;31m---------------------------------------------------------------------------\u001b[0m",
      "\u001b[1;31mException\u001b[0m                                 Traceback (most recent call last)",
      "\u001b[1;32mc:\\Users\\MSIS\\Desktop\\ALAL\\Gram_schmidt.ipynb Cell 14\u001b[0m line \u001b[0;36m6\n\u001b[0;32m      <a href='vscode-notebook-cell:/c%3A/Users/MSIS/Desktop/ALAL/Gram_schmidt.ipynb#X20sZmlsZQ%3D%3D?line=0'>1</a>\u001b[0m vectors \u001b[39m=\u001b[39m np\u001b[39m.\u001b[39marray(\n\u001b[0;32m      <a href='vscode-notebook-cell:/c%3A/Users/MSIS/Desktop/ALAL/Gram_schmidt.ipynb#X20sZmlsZQ%3D%3D?line=1'>2</a>\u001b[0m     [[\u001b[39m0\u001b[39m,\u001b[39m0\u001b[39m,\u001b[39m4\u001b[39m],\n\u001b[0;32m      <a href='vscode-notebook-cell:/c%3A/Users/MSIS/Desktop/ALAL/Gram_schmidt.ipynb#X20sZmlsZQ%3D%3D?line=2'>3</a>\u001b[0m      [\u001b[39m0\u001b[39m,\u001b[39m0\u001b[39m,\u001b[39m2\u001b[39m],\n\u001b[0;32m      <a href='vscode-notebook-cell:/c%3A/Users/MSIS/Desktop/ALAL/Gram_schmidt.ipynb#X20sZmlsZQ%3D%3D?line=3'>4</a>\u001b[0m      [\u001b[39m1\u001b[39m,\u001b[39m1\u001b[39m,\u001b[39m1\u001b[39m]]\n\u001b[0;32m      <a href='vscode-notebook-cell:/c%3A/Users/MSIS/Desktop/ALAL/Gram_schmidt.ipynb#X20sZmlsZQ%3D%3D?line=4'>5</a>\u001b[0m )\n\u001b[1;32m----> <a href='vscode-notebook-cell:/c%3A/Users/MSIS/Desktop/ALAL/Gram_schmidt.ipynb#X20sZmlsZQ%3D%3D?line=5'>6</a>\u001b[0m gram_schmidt(vectors)\n",
      "\u001b[1;32mc:\\Users\\MSIS\\Desktop\\ALAL\\Gram_schmidt.ipynb Cell 14\u001b[0m line \u001b[0;36m9\n\u001b[0;32m      <a href='vscode-notebook-cell:/c%3A/Users/MSIS/Desktop/ALAL/Gram_schmidt.ipynb#X20sZmlsZQ%3D%3D?line=6'>7</a>\u001b[0m         basis\u001b[39m.\u001b[39mappend(qnew\u001b[39m/\u001b[39mnorm)\n\u001b[0;32m      <a href='vscode-notebook-cell:/c%3A/Users/MSIS/Desktop/ALAL/Gram_schmidt.ipynb#X20sZmlsZQ%3D%3D?line=7'>8</a>\u001b[0m     \u001b[39melse\u001b[39;00m:\n\u001b[1;32m----> <a href='vscode-notebook-cell:/c%3A/Users/MSIS/Desktop/ALAL/Gram_schmidt.ipynb#X20sZmlsZQ%3D%3D?line=8'>9</a>\u001b[0m         \u001b[39mraise\u001b[39;00m \u001b[39mException\u001b[39;00m(\u001b[39mf\u001b[39m\u001b[39m'\u001b[39m\u001b[39mvector \u001b[39m\u001b[39m{\u001b[39;00mai\u001b[39m}\u001b[39;00m\u001b[39m is linearly dependent on other\u001b[39m\u001b[39m'\u001b[39m)\n\u001b[0;32m     <a href='vscode-notebook-cell:/c%3A/Users/MSIS/Desktop/ALAL/Gram_schmidt.ipynb#X20sZmlsZQ%3D%3D?line=10'>11</a>\u001b[0m \u001b[39mreturn\u001b[39;00m np\u001b[39m.\u001b[39marray(basis)\n",
      "\u001b[1;31mException\u001b[0m: vector [0 0 2] is linearly dependent on other"
     ]
    }
   ],
   "source": [
    "vectors = np.array(\n",
    "    [[0,0,4],\n",
    "     [0,0,2],\n",
    "     [1,1,1]]\n",
    ")\n",
    "gram_schmidt(vectors)"
   ]
  }
 ],
 "metadata": {
  "kernelspec": {
   "display_name": "pycaretenv",
   "language": "python",
   "name": "python3"
  },
  "language_info": {
   "codemirror_mode": {
    "name": "ipython",
    "version": 3
   },
   "file_extension": ".py",
   "mimetype": "text/x-python",
   "name": "python",
   "nbconvert_exporter": "python",
   "pygments_lexer": "ipython3",
   "version": "3.9.17"
  },
  "orig_nbformat": 4
 },
 "nbformat": 4,
 "nbformat_minor": 2
}
